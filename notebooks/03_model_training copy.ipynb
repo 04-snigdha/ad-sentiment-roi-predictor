{
 "cells": [
  {
   "cell_type": "code",
   "execution_count": null,
   "id": "755a3a76",
   "metadata": {},
   "outputs": [],
   "source": [
    "import pandas as pd\n",
    "\n",
    "# Load the final preprocessed dataset\n",
    "df = pd.read_csv(\"../data/facebook_ads_final_preprocessed.csv\")\n",
    "\n",
    "# Create CTR category labels (Low/Medium/High)\n",
    "df['CTR_Category'] = pd.qcut(df['CTR'], q=3, labels=['Low', 'Medium', 'High'])\n",
    "\n",
    "# Drop unusable column\n",
    "if 'reporting_start' in df.columns:\n",
    "    df = df.drop(columns=['reporting_start'])"
   ]
  },
  {
   "cell_type": "code",
   "execution_count": null,
   "id": "069e749c",
   "metadata": {},
   "outputs": [
    {
     "name": "stdout",
     "output_type": "stream",
     "text": [
      "✅ NaNs in X: 0\n",
      "✅ NaNs in y: 0\n"
     ]
    }
   ],
   "source": [
    "# Drop target columns from features\n",
    "features_df = df.drop(columns=['CTR', 'CTR_Category'])\n",
    "\n",
    "# Keep only numeric columns\n",
    "features_df = features_df.select_dtypes(include='number')\n",
    "\n",
    "# Drop rows with NaNs\n",
    "features_df = features_df.dropna()\n",
    "\n",
    "# Final features and labels\n",
    "X = features_df\n",
    "y = df.loc[X.index, 'CTR_Category']\n",
    "\n",
    "print(\"✅ NaNs in X:\", X.isna().sum().sum())\n",
    "print(\"✅ NaNs in y:\", y.isna().sum())"
   ]
  },
  {
   "cell_type": "code",
   "execution_count": null,
   "id": "19e5aaa2",
   "metadata": {},
   "outputs": [],
   "source": [
    "from sklearn.model_selection import train_test_split\n",
    "\n",
    "X_train, X_test, y_train, y_test = train_test_split(\n",
    "    X, y, test_size=0.2, stratify=y, random_state=42\n",
    ")"
   ]
  },
  {
   "cell_type": "code",
   "execution_count": null,
   "id": "e758e1ec",
   "metadata": {},
   "outputs": [
    {
     "name": "stdout",
     "output_type": "stream",
     "text": [
      "📊 Logistic Regression Report:\n",
      "              precision    recall  f1-score   support\n",
      "\n",
      "        High       0.00      0.00      0.00         1\n",
      "         Low       0.65      0.47      0.55        76\n",
      "      Medium       0.59      0.76      0.67        76\n",
      "\n",
      "    accuracy                           0.61       153\n",
      "   macro avg       0.42      0.41      0.41       153\n",
      "weighted avg       0.62      0.61      0.60       153\n",
      "\n"
     ]
    },
    {
     "name": "stderr",
     "output_type": "stream",
     "text": [
      "/workspaces/ad-sentiment-roi-predictor/adgenius/lib/python3.12/site-packages/sklearn/metrics/_classification.py:1565: UndefinedMetricWarning: Precision is ill-defined and being set to 0.0 in labels with no predicted samples. Use `zero_division` parameter to control this behavior.\n",
      "  _warn_prf(average, modifier, f\"{metric.capitalize()} is\", len(result))\n",
      "/workspaces/ad-sentiment-roi-predictor/adgenius/lib/python3.12/site-packages/sklearn/metrics/_classification.py:1565: UndefinedMetricWarning: Precision is ill-defined and being set to 0.0 in labels with no predicted samples. Use `zero_division` parameter to control this behavior.\n",
      "  _warn_prf(average, modifier, f\"{metric.capitalize()} is\", len(result))\n",
      "/workspaces/ad-sentiment-roi-predictor/adgenius/lib/python3.12/site-packages/sklearn/metrics/_classification.py:1565: UndefinedMetricWarning: Precision is ill-defined and being set to 0.0 in labels with no predicted samples. Use `zero_division` parameter to control this behavior.\n",
      "  _warn_prf(average, modifier, f\"{metric.capitalize()} is\", len(result))\n"
     ]
    }
   ],
   "source": [
    "from sklearn.linear_model import LogisticRegression\n",
    "from sklearn.metrics import classification_report\n",
    "\n",
    "clf = LogisticRegression(max_iter=1000)\n",
    "clf.fit(X_train, y_train)\n",
    "\n",
    "y_pred = clf.predict(X_test)\n",
    "print(\"📊 Logistic Regression Report:\")\n",
    "print(classification_report(y_test, y_pred))"
   ]
  },
  {
   "cell_type": "code",
   "execution_count": null,
   "id": "2555368c",
   "metadata": {},
   "outputs": [
    {
     "name": "stdout",
     "output_type": "stream",
     "text": [
      "📊 Random Forest Classification Report:\n",
      "              precision    recall  f1-score   support\n",
      "\n",
      "        High       0.00      0.00      0.00         1\n",
      "         Low       0.94      0.87      0.90        76\n",
      "      Medium       0.87      0.95      0.91        76\n",
      "\n",
      "    accuracy                           0.90       153\n",
      "   macro avg       0.60      0.61      0.60       153\n",
      "weighted avg       0.90      0.90      0.90       153\n",
      "\n"
     ]
    },
    {
     "name": "stderr",
     "output_type": "stream",
     "text": [
      "/workspaces/ad-sentiment-roi-predictor/adgenius/lib/python3.12/site-packages/sklearn/metrics/_classification.py:1565: UndefinedMetricWarning: Precision is ill-defined and being set to 0.0 in labels with no predicted samples. Use `zero_division` parameter to control this behavior.\n",
      "  _warn_prf(average, modifier, f\"{metric.capitalize()} is\", len(result))\n",
      "/workspaces/ad-sentiment-roi-predictor/adgenius/lib/python3.12/site-packages/sklearn/metrics/_classification.py:1565: UndefinedMetricWarning: Precision is ill-defined and being set to 0.0 in labels with no predicted samples. Use `zero_division` parameter to control this behavior.\n",
      "  _warn_prf(average, modifier, f\"{metric.capitalize()} is\", len(result))\n",
      "/workspaces/ad-sentiment-roi-predictor/adgenius/lib/python3.12/site-packages/sklearn/metrics/_classification.py:1565: UndefinedMetricWarning: Precision is ill-defined and being set to 0.0 in labels with no predicted samples. Use `zero_division` parameter to control this behavior.\n",
      "  _warn_prf(average, modifier, f\"{metric.capitalize()} is\", len(result))\n"
     ]
    }
   ],
   "source": [
    "from sklearn.ensemble import RandomForestClassifier\n",
    "\n",
    "# Train Random Forest\n",
    "rf = RandomForestClassifier(n_estimators=100, random_state=42)\n",
    "rf.fit(X_train, y_train)\n",
    "\n",
    "# Predict\n",
    "y_pred_rf = rf.predict(X_test)\n",
    "\n",
    "# Evaluate\n",
    "print(\"📊 Random Forest Classification Report:\")\n",
    "print(classification_report(y_test, y_pred_rf))\n"
   ]
  },
  {
   "cell_type": "code",
   "execution_count": null,
   "id": "e009f063",
   "metadata": {},
   "outputs": [],
   "source": []
  }
 ],
 "metadata": {
  "kernelspec": {
   "display_name": "adgenius",
   "language": "python",
   "name": "python3"
  },
  "language_info": {
   "codemirror_mode": {
    "name": "ipython",
    "version": 3
   },
   "file_extension": ".py",
   "mimetype": "text/x-python",
   "name": "python",
   "nbconvert_exporter": "python",
   "pygments_lexer": "ipython3",
   "version": "3.12.1"
  }
 },
 "nbformat": 4,
 "nbformat_minor": 5
}
